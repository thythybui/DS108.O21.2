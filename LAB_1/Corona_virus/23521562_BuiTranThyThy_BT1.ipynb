{
 "cells": [
  {
   "cell_type": "markdown",
   "metadata": {},
   "source": [
    "3. Thực hành thao tác cơ bản với dữ liệu trong R Studio\n",
    "\n",
    "    Dữ liệu mẫu: \n",
    "\tBộ dữ liệu: Novel Corona Virus 2019\n",
    "\tLink tải: https://www.kaggle.com/sudalairajkumar/novel-corona-virus-2019-dataset\n"
   ]
  },
  {
   "cell_type": "code",
   "execution_count": 275,
   "metadata": {},
   "outputs": [],
   "source": [
    "import pandas as pd"
   ]
  },
  {
   "cell_type": "markdown",
   "metadata": {},
   "source": [
    "Đọc dữ liệu và gán vào biến coronaData"
   ]
  },
  {
   "cell_type": "code",
   "execution_count": 276,
   "metadata": {},
   "outputs": [
    {
     "data": {
      "text/html": [
       "<div>\n",
       "<style scoped>\n",
       "    .dataframe tbody tr th:only-of-type {\n",
       "        vertical-align: middle;\n",
       "    }\n",
       "\n",
       "    .dataframe tbody tr th {\n",
       "        vertical-align: top;\n",
       "    }\n",
       "\n",
       "    .dataframe thead th {\n",
       "        text-align: right;\n",
       "    }\n",
       "</style>\n",
       "<table border=\"1\" class=\"dataframe\">\n",
       "  <thead>\n",
       "    <tr style=\"text-align: right;\">\n",
       "      <th></th>\n",
       "      <th>SNo</th>\n",
       "      <th>ObservationDate</th>\n",
       "      <th>Province/State</th>\n",
       "      <th>Country/Region</th>\n",
       "      <th>Last Update</th>\n",
       "      <th>Confirmed</th>\n",
       "      <th>Deaths</th>\n",
       "      <th>Recovered</th>\n",
       "    </tr>\n",
       "  </thead>\n",
       "  <tbody>\n",
       "    <tr>\n",
       "      <th>0</th>\n",
       "      <td>1</td>\n",
       "      <td>01/22/2020</td>\n",
       "      <td>Anhui</td>\n",
       "      <td>Mainland China</td>\n",
       "      <td>1/22/2020 17:00</td>\n",
       "      <td>1.0</td>\n",
       "      <td>0.0</td>\n",
       "      <td>0.0</td>\n",
       "    </tr>\n",
       "    <tr>\n",
       "      <th>1</th>\n",
       "      <td>2</td>\n",
       "      <td>01/22/2020</td>\n",
       "      <td>Beijing</td>\n",
       "      <td>Mainland China</td>\n",
       "      <td>1/22/2020 17:00</td>\n",
       "      <td>14.0</td>\n",
       "      <td>0.0</td>\n",
       "      <td>0.0</td>\n",
       "    </tr>\n",
       "    <tr>\n",
       "      <th>2</th>\n",
       "      <td>3</td>\n",
       "      <td>01/22/2020</td>\n",
       "      <td>Chongqing</td>\n",
       "      <td>Mainland China</td>\n",
       "      <td>1/22/2020 17:00</td>\n",
       "      <td>6.0</td>\n",
       "      <td>0.0</td>\n",
       "      <td>0.0</td>\n",
       "    </tr>\n",
       "    <tr>\n",
       "      <th>3</th>\n",
       "      <td>4</td>\n",
       "      <td>01/22/2020</td>\n",
       "      <td>Fujian</td>\n",
       "      <td>Mainland China</td>\n",
       "      <td>1/22/2020 17:00</td>\n",
       "      <td>1.0</td>\n",
       "      <td>0.0</td>\n",
       "      <td>0.0</td>\n",
       "    </tr>\n",
       "    <tr>\n",
       "      <th>4</th>\n",
       "      <td>5</td>\n",
       "      <td>01/22/2020</td>\n",
       "      <td>Gansu</td>\n",
       "      <td>Mainland China</td>\n",
       "      <td>1/22/2020 17:00</td>\n",
       "      <td>0.0</td>\n",
       "      <td>0.0</td>\n",
       "      <td>0.0</td>\n",
       "    </tr>\n",
       "    <tr>\n",
       "      <th>...</th>\n",
       "      <td>...</td>\n",
       "      <td>...</td>\n",
       "      <td>...</td>\n",
       "      <td>...</td>\n",
       "      <td>...</td>\n",
       "      <td>...</td>\n",
       "      <td>...</td>\n",
       "      <td>...</td>\n",
       "    </tr>\n",
       "    <tr>\n",
       "      <th>306424</th>\n",
       "      <td>306425</td>\n",
       "      <td>05/29/2021</td>\n",
       "      <td>Zaporizhia Oblast</td>\n",
       "      <td>Ukraine</td>\n",
       "      <td>2021-05-30 04:20:55</td>\n",
       "      <td>102641.0</td>\n",
       "      <td>2335.0</td>\n",
       "      <td>95289.0</td>\n",
       "    </tr>\n",
       "    <tr>\n",
       "      <th>306425</th>\n",
       "      <td>306426</td>\n",
       "      <td>05/29/2021</td>\n",
       "      <td>Zeeland</td>\n",
       "      <td>Netherlands</td>\n",
       "      <td>2021-05-30 04:20:55</td>\n",
       "      <td>29147.0</td>\n",
       "      <td>245.0</td>\n",
       "      <td>0.0</td>\n",
       "    </tr>\n",
       "    <tr>\n",
       "      <th>306426</th>\n",
       "      <td>306427</td>\n",
       "      <td>05/29/2021</td>\n",
       "      <td>Zhejiang</td>\n",
       "      <td>Mainland China</td>\n",
       "      <td>2021-05-30 04:20:55</td>\n",
       "      <td>1364.0</td>\n",
       "      <td>1.0</td>\n",
       "      <td>1324.0</td>\n",
       "    </tr>\n",
       "    <tr>\n",
       "      <th>306427</th>\n",
       "      <td>306428</td>\n",
       "      <td>05/29/2021</td>\n",
       "      <td>Zhytomyr Oblast</td>\n",
       "      <td>Ukraine</td>\n",
       "      <td>2021-05-30 04:20:55</td>\n",
       "      <td>87550.0</td>\n",
       "      <td>1738.0</td>\n",
       "      <td>83790.0</td>\n",
       "    </tr>\n",
       "    <tr>\n",
       "      <th>306428</th>\n",
       "      <td>306429</td>\n",
       "      <td>05/29/2021</td>\n",
       "      <td>Zuid-Holland</td>\n",
       "      <td>Netherlands</td>\n",
       "      <td>2021-05-30 04:20:55</td>\n",
       "      <td>391559.0</td>\n",
       "      <td>4252.0</td>\n",
       "      <td>0.0</td>\n",
       "    </tr>\n",
       "  </tbody>\n",
       "</table>\n",
       "<p>306429 rows × 8 columns</p>\n",
       "</div>"
      ],
      "text/plain": [
       "           SNo ObservationDate     Province/State  Country/Region  \\\n",
       "0            1      01/22/2020              Anhui  Mainland China   \n",
       "1            2      01/22/2020            Beijing  Mainland China   \n",
       "2            3      01/22/2020          Chongqing  Mainland China   \n",
       "3            4      01/22/2020             Fujian  Mainland China   \n",
       "4            5      01/22/2020              Gansu  Mainland China   \n",
       "...        ...             ...                ...             ...   \n",
       "306424  306425      05/29/2021  Zaporizhia Oblast         Ukraine   \n",
       "306425  306426      05/29/2021            Zeeland     Netherlands   \n",
       "306426  306427      05/29/2021           Zhejiang  Mainland China   \n",
       "306427  306428      05/29/2021    Zhytomyr Oblast         Ukraine   \n",
       "306428  306429      05/29/2021       Zuid-Holland     Netherlands   \n",
       "\n",
       "                Last Update  Confirmed  Deaths  Recovered  \n",
       "0           1/22/2020 17:00        1.0     0.0        0.0  \n",
       "1           1/22/2020 17:00       14.0     0.0        0.0  \n",
       "2           1/22/2020 17:00        6.0     0.0        0.0  \n",
       "3           1/22/2020 17:00        1.0     0.0        0.0  \n",
       "4           1/22/2020 17:00        0.0     0.0        0.0  \n",
       "...                     ...        ...     ...        ...  \n",
       "306424  2021-05-30 04:20:55   102641.0  2335.0    95289.0  \n",
       "306425  2021-05-30 04:20:55    29147.0   245.0        0.0  \n",
       "306426  2021-05-30 04:20:55     1364.0     1.0     1324.0  \n",
       "306427  2021-05-30 04:20:55    87550.0  1738.0    83790.0  \n",
       "306428  2021-05-30 04:20:55   391559.0  4252.0        0.0  \n",
       "\n",
       "[306429 rows x 8 columns]"
      ]
     },
     "execution_count": 276,
     "metadata": {},
     "output_type": "execute_result"
    }
   ],
   "source": [
    "coronaData = pd.read_csv(\"data/covid_19_data.csv\")\n",
    "coronaData"
   ]
  },
  {
   "cell_type": "markdown",
   "metadata": {},
   "source": [
    "Liệt kê số cột trong bảng dữ liệu: "
   ]
  },
  {
   "cell_type": "code",
   "execution_count": 277,
   "metadata": {},
   "outputs": [
    {
     "data": {
      "text/plain": [
       "8"
      ]
     },
     "execution_count": 277,
     "metadata": {},
     "output_type": "execute_result"
    }
   ],
   "source": [
    "len(coronaData.columns)"
   ]
  },
  {
   "cell_type": "markdown",
   "metadata": {},
   "source": [
    "Liệt kê số dòng: "
   ]
  },
  {
   "cell_type": "code",
   "execution_count": 278,
   "metadata": {},
   "outputs": [
    {
     "data": {
      "text/plain": [
       "306429"
      ]
     },
     "execution_count": 278,
     "metadata": {},
     "output_type": "execute_result"
    }
   ],
   "source": [
    "len(coronaData)"
   ]
  },
  {
   "cell_type": "markdown",
   "metadata": {},
   "source": [
    "In ra 10 dòng đầu trong bảng dữ liệu:"
   ]
  },
  {
   "cell_type": "code",
   "execution_count": 279,
   "metadata": {},
   "outputs": [
    {
     "data": {
      "text/html": [
       "<div>\n",
       "<style scoped>\n",
       "    .dataframe tbody tr th:only-of-type {\n",
       "        vertical-align: middle;\n",
       "    }\n",
       "\n",
       "    .dataframe tbody tr th {\n",
       "        vertical-align: top;\n",
       "    }\n",
       "\n",
       "    .dataframe thead th {\n",
       "        text-align: right;\n",
       "    }\n",
       "</style>\n",
       "<table border=\"1\" class=\"dataframe\">\n",
       "  <thead>\n",
       "    <tr style=\"text-align: right;\">\n",
       "      <th></th>\n",
       "      <th>SNo</th>\n",
       "      <th>ObservationDate</th>\n",
       "      <th>Province/State</th>\n",
       "      <th>Country/Region</th>\n",
       "      <th>Last Update</th>\n",
       "      <th>Confirmed</th>\n",
       "      <th>Deaths</th>\n",
       "      <th>Recovered</th>\n",
       "    </tr>\n",
       "  </thead>\n",
       "  <tbody>\n",
       "    <tr>\n",
       "      <th>0</th>\n",
       "      <td>1</td>\n",
       "      <td>01/22/2020</td>\n",
       "      <td>Anhui</td>\n",
       "      <td>Mainland China</td>\n",
       "      <td>1/22/2020 17:00</td>\n",
       "      <td>1.0</td>\n",
       "      <td>0.0</td>\n",
       "      <td>0.0</td>\n",
       "    </tr>\n",
       "    <tr>\n",
       "      <th>1</th>\n",
       "      <td>2</td>\n",
       "      <td>01/22/2020</td>\n",
       "      <td>Beijing</td>\n",
       "      <td>Mainland China</td>\n",
       "      <td>1/22/2020 17:00</td>\n",
       "      <td>14.0</td>\n",
       "      <td>0.0</td>\n",
       "      <td>0.0</td>\n",
       "    </tr>\n",
       "    <tr>\n",
       "      <th>2</th>\n",
       "      <td>3</td>\n",
       "      <td>01/22/2020</td>\n",
       "      <td>Chongqing</td>\n",
       "      <td>Mainland China</td>\n",
       "      <td>1/22/2020 17:00</td>\n",
       "      <td>6.0</td>\n",
       "      <td>0.0</td>\n",
       "      <td>0.0</td>\n",
       "    </tr>\n",
       "    <tr>\n",
       "      <th>3</th>\n",
       "      <td>4</td>\n",
       "      <td>01/22/2020</td>\n",
       "      <td>Fujian</td>\n",
       "      <td>Mainland China</td>\n",
       "      <td>1/22/2020 17:00</td>\n",
       "      <td>1.0</td>\n",
       "      <td>0.0</td>\n",
       "      <td>0.0</td>\n",
       "    </tr>\n",
       "    <tr>\n",
       "      <th>4</th>\n",
       "      <td>5</td>\n",
       "      <td>01/22/2020</td>\n",
       "      <td>Gansu</td>\n",
       "      <td>Mainland China</td>\n",
       "      <td>1/22/2020 17:00</td>\n",
       "      <td>0.0</td>\n",
       "      <td>0.0</td>\n",
       "      <td>0.0</td>\n",
       "    </tr>\n",
       "  </tbody>\n",
       "</table>\n",
       "</div>"
      ],
      "text/plain": [
       "   SNo ObservationDate Province/State  Country/Region      Last Update  \\\n",
       "0    1      01/22/2020          Anhui  Mainland China  1/22/2020 17:00   \n",
       "1    2      01/22/2020        Beijing  Mainland China  1/22/2020 17:00   \n",
       "2    3      01/22/2020      Chongqing  Mainland China  1/22/2020 17:00   \n",
       "3    4      01/22/2020         Fujian  Mainland China  1/22/2020 17:00   \n",
       "4    5      01/22/2020          Gansu  Mainland China  1/22/2020 17:00   \n",
       "\n",
       "   Confirmed  Deaths  Recovered  \n",
       "0        1.0     0.0        0.0  \n",
       "1       14.0     0.0        0.0  \n",
       "2        6.0     0.0        0.0  \n",
       "3        1.0     0.0        0.0  \n",
       "4        0.0     0.0        0.0  "
      ]
     },
     "execution_count": 279,
     "metadata": {},
     "output_type": "execute_result"
    }
   ],
   "source": [
    "coronaData.head()"
   ]
  },
  {
   "cell_type": "markdown",
   "metadata": {},
   "source": [
    "In ra tên các biến (tên cột) của dữ liệu:"
   ]
  },
  {
   "cell_type": "code",
   "execution_count": 280,
   "metadata": {},
   "outputs": [
    {
     "name": "stdout",
     "output_type": "stream",
     "text": [
      "Index(['SNo', 'ObservationDate', 'Province/State', 'Country/Region',\n",
      "       'Last Update', 'Confirmed', 'Deaths', 'Recovered'],\n",
      "      dtype='object')\n"
     ]
    }
   ],
   "source": [
    "print(coronaData.columns)"
   ]
  },
  {
   "cell_type": "markdown",
   "metadata": {},
   "source": [
    "Tạo biến countryCorona lưu giá trị là các quốc gia có dịch Corona (Cột Country.Region)"
   ]
  },
  {
   "cell_type": "code",
   "execution_count": 281,
   "metadata": {},
   "outputs": [
    {
     "name": "stdout",
     "output_type": "stream",
     "text": [
      "['Mainland China' 'Hong Kong' 'Macau' 'Taiwan' 'US' 'Japan' 'Thailand'\n",
      " 'South Korea' 'China' 'Kiribati' 'Singapore' 'Philippines' 'Malaysia'\n",
      " 'Vietnam' 'Australia' 'Mexico' 'Brazil' 'Colombia' 'France' 'Nepal'\n",
      " 'Canada' 'Cambodia' 'Sri Lanka' 'Ivory Coast' 'Germany' 'Finland'\n",
      " 'United Arab Emirates' 'India' 'Italy' 'UK' 'Russia' 'Sweden' 'Spain'\n",
      " 'Belgium' 'Others' 'Egypt' 'Iran' 'Israel' 'Lebanon' 'Iraq' 'Oman'\n",
      " 'Afghanistan' 'Bahrain' 'Kuwait' 'Austria' 'Algeria' 'Croatia'\n",
      " 'Switzerland' 'Pakistan' 'Georgia' 'Greece' 'North Macedonia' 'Norway'\n",
      " 'Romania' 'Denmark' 'Estonia' 'Netherlands' 'San Marino' ' Azerbaijan'\n",
      " 'Belarus' 'Iceland' 'Lithuania' 'New Zealand' 'Nigeria' 'North Ireland'\n",
      " 'Ireland' 'Luxembourg' 'Monaco' 'Qatar' 'Ecuador' 'Azerbaijan'\n",
      " 'Czech Republic' 'Armenia' 'Dominican Republic' 'Indonesia' 'Portugal'\n",
      " 'Andorra' 'Latvia' 'Morocco' 'Saudi Arabia' 'Senegal' 'Argentina' 'Chile'\n",
      " 'Jordan' 'Ukraine' 'Saint Barthelemy' 'Hungary' 'Faroe Islands'\n",
      " 'Gibraltar' 'Liechtenstein' 'Poland' 'Tunisia' 'Palestine'\n",
      " 'Bosnia and Herzegovina' 'Slovenia' 'South Africa' 'Bhutan' 'Cameroon'\n",
      " 'Costa Rica' 'Peru' 'Serbia' 'Slovakia' 'Togo' 'Vatican City'\n",
      " 'French Guiana' 'Malta' 'Martinique' 'Republic of Ireland' 'Bulgaria'\n",
      " 'Maldives' 'Bangladesh' 'Moldova' 'Paraguay' 'Albania' 'Cyprus'\n",
      " 'St. Martin' 'Brunei' 'occupied Palestinian territory' \"('St. Martin',)\"\n",
      " 'Burkina Faso' 'Channel Islands' 'Holy See' 'Mongolia' 'Panama' 'Bolivia'\n",
      " 'Honduras' 'Congo (Kinshasa)' 'Jamaica' 'Reunion' 'Turkey' 'Cuba'\n",
      " 'Guyana' 'Kazakhstan' 'Cayman Islands' 'Guadeloupe' 'Ethiopia' 'Sudan'\n",
      " 'Guinea' 'Antigua and Barbuda' 'Aruba' 'Kenya' 'Uruguay' 'Ghana' 'Jersey'\n",
      " 'Namibia' 'Seychelles' 'Trinidad and Tobago' 'Venezuela' 'Curacao'\n",
      " 'Eswatini' 'Gabon' 'Guatemala' 'Guernsey' 'Mauritania' 'Rwanda'\n",
      " 'Saint Lucia' 'Saint Vincent and the Grenadines' 'Suriname' 'Kosovo'\n",
      " 'Central African Republic' 'Congo (Brazzaville)' 'Equatorial Guinea'\n",
      " 'Uzbekistan' 'Guam' 'Puerto Rico' 'Benin' 'Greenland' 'Liberia' 'Mayotte'\n",
      " 'Republic of the Congo' 'Somalia' 'Tanzania' 'The Bahamas' 'Barbados'\n",
      " 'Montenegro' 'The Gambia' 'Kyrgyzstan' 'Mauritius' 'Zambia' 'Djibouti'\n",
      " 'Gambia, The' 'Bahamas, The' 'Chad' 'El Salvador' 'Fiji' 'Nicaragua'\n",
      " 'Madagascar' 'Haiti' 'Angola' 'Cabo Verde' 'Niger' 'Papua New Guinea'\n",
      " 'Zimbabwe' 'Cape Verde' 'East Timor' 'Eritrea' 'Uganda' 'Bahamas'\n",
      " 'Dominica' 'Gambia' 'Grenada' 'Mozambique' 'Samoa' 'Syria' 'Timor-Leste'\n",
      " 'Belize' 'Laos' 'Libya' 'Diamond Princess' 'Guinea-Bissau' 'Mali'\n",
      " 'Saint Kitts and Nevis' 'West Bank and Gaza' 'Burma' 'MS Zaandam'\n",
      " 'Botswana' 'Burundi' 'Sierra Leone' 'Malawi' 'South Sudan'\n",
      " 'Sao Tome and Principe' 'Yemen' 'Comoros' 'Tajikistan' 'Lesotho'\n",
      " 'Solomon Islands' 'Marshall Islands' 'Vanuatu' 'Micronesia']\n"
     ]
    }
   ],
   "source": [
    "# cach 1\n",
    "countryCorona = coronaData[\"Country/Region\"].unique()\n",
    "print(countryCorona)\n",
    "# cach 2\n",
    "countryCorona = coronaData[\"Country/Region\"]\n",
    "#set(countryCorona)\n",
    "#print(set(countryCorona))"
   ]
  },
  {
   "cell_type": "markdown",
   "metadata": {},
   "source": [
    "Liệt kê số lượng ca lây nhiễm được xác nhận (biến Confirmed) nhiều nhất và lưu vào biến maxConfirmedCases."
   ]
  },
  {
   "cell_type": "code",
   "execution_count": 282,
   "metadata": {},
   "outputs": [
    {
     "data": {
      "text/plain": [
       "5863138.0"
      ]
     },
     "execution_count": 282,
     "metadata": {},
     "output_type": "execute_result"
    }
   ],
   "source": [
    "maxConfirmedCases = coronaData['Confirmed'].max()\n",
    "maxConfirmedCases"
   ]
  },
  {
   "cell_type": "markdown",
   "metadata": {},
   "source": [
    "Liệt kê các dữ liệu về covid-19 tại quốc gia Trung Quốc đại lục (Mainland China) và lưu vào biến coronaChina."
   ]
  },
  {
   "cell_type": "code",
   "execution_count": 283,
   "metadata": {},
   "outputs": [
    {
     "data": {
      "text/html": [
       "<div>\n",
       "<style scoped>\n",
       "    .dataframe tbody tr th:only-of-type {\n",
       "        vertical-align: middle;\n",
       "    }\n",
       "\n",
       "    .dataframe tbody tr th {\n",
       "        vertical-align: top;\n",
       "    }\n",
       "\n",
       "    .dataframe thead th {\n",
       "        text-align: right;\n",
       "    }\n",
       "</style>\n",
       "<table border=\"1\" class=\"dataframe\">\n",
       "  <thead>\n",
       "    <tr style=\"text-align: right;\">\n",
       "      <th></th>\n",
       "      <th>SNo</th>\n",
       "      <th>ObservationDate</th>\n",
       "      <th>Province/State</th>\n",
       "      <th>Country/Region</th>\n",
       "      <th>Last Update</th>\n",
       "      <th>Confirmed</th>\n",
       "      <th>Deaths</th>\n",
       "      <th>Recovered</th>\n",
       "    </tr>\n",
       "  </thead>\n",
       "  <tbody>\n",
       "    <tr>\n",
       "      <th>0</th>\n",
       "      <td>1</td>\n",
       "      <td>01/22/2020</td>\n",
       "      <td>Anhui</td>\n",
       "      <td>Mainland China</td>\n",
       "      <td>1/22/2020 17:00</td>\n",
       "      <td>1.0</td>\n",
       "      <td>0.0</td>\n",
       "      <td>0.0</td>\n",
       "    </tr>\n",
       "    <tr>\n",
       "      <th>1</th>\n",
       "      <td>2</td>\n",
       "      <td>01/22/2020</td>\n",
       "      <td>Beijing</td>\n",
       "      <td>Mainland China</td>\n",
       "      <td>1/22/2020 17:00</td>\n",
       "      <td>14.0</td>\n",
       "      <td>0.0</td>\n",
       "      <td>0.0</td>\n",
       "    </tr>\n",
       "    <tr>\n",
       "      <th>2</th>\n",
       "      <td>3</td>\n",
       "      <td>01/22/2020</td>\n",
       "      <td>Chongqing</td>\n",
       "      <td>Mainland China</td>\n",
       "      <td>1/22/2020 17:00</td>\n",
       "      <td>6.0</td>\n",
       "      <td>0.0</td>\n",
       "      <td>0.0</td>\n",
       "    </tr>\n",
       "    <tr>\n",
       "      <th>3</th>\n",
       "      <td>4</td>\n",
       "      <td>01/22/2020</td>\n",
       "      <td>Fujian</td>\n",
       "      <td>Mainland China</td>\n",
       "      <td>1/22/2020 17:00</td>\n",
       "      <td>1.0</td>\n",
       "      <td>0.0</td>\n",
       "      <td>0.0</td>\n",
       "    </tr>\n",
       "    <tr>\n",
       "      <th>4</th>\n",
       "      <td>5</td>\n",
       "      <td>01/22/2020</td>\n",
       "      <td>Gansu</td>\n",
       "      <td>Mainland China</td>\n",
       "      <td>1/22/2020 17:00</td>\n",
       "      <td>0.0</td>\n",
       "      <td>0.0</td>\n",
       "      <td>0.0</td>\n",
       "    </tr>\n",
       "    <tr>\n",
       "      <th>...</th>\n",
       "      <td>...</td>\n",
       "      <td>...</td>\n",
       "      <td>...</td>\n",
       "      <td>...</td>\n",
       "      <td>...</td>\n",
       "      <td>...</td>\n",
       "      <td>...</td>\n",
       "      <td>...</td>\n",
       "    </tr>\n",
       "    <tr>\n",
       "      <th>306340</th>\n",
       "      <td>306341</td>\n",
       "      <td>05/29/2021</td>\n",
       "      <td>Tibet</td>\n",
       "      <td>Mainland China</td>\n",
       "      <td>2021-05-30 04:20:55</td>\n",
       "      <td>1.0</td>\n",
       "      <td>0.0</td>\n",
       "      <td>1.0</td>\n",
       "    </tr>\n",
       "    <tr>\n",
       "      <th>306368</th>\n",
       "      <td>306369</td>\n",
       "      <td>05/29/2021</td>\n",
       "      <td>Unknown</td>\n",
       "      <td>Mainland China</td>\n",
       "      <td>2021-05-30 04:20:55</td>\n",
       "      <td>0.0</td>\n",
       "      <td>0.0</td>\n",
       "      <td>10.0</td>\n",
       "    </tr>\n",
       "    <tr>\n",
       "      <th>306412</th>\n",
       "      <td>306413</td>\n",
       "      <td>05/29/2021</td>\n",
       "      <td>Xinjiang</td>\n",
       "      <td>Mainland China</td>\n",
       "      <td>2021-05-30 04:20:55</td>\n",
       "      <td>980.0</td>\n",
       "      <td>3.0</td>\n",
       "      <td>977.0</td>\n",
       "    </tr>\n",
       "    <tr>\n",
       "      <th>306420</th>\n",
       "      <td>306421</td>\n",
       "      <td>05/29/2021</td>\n",
       "      <td>Yunnan</td>\n",
       "      <td>Mainland China</td>\n",
       "      <td>2021-05-30 04:20:55</td>\n",
       "      <td>352.0</td>\n",
       "      <td>2.0</td>\n",
       "      <td>331.0</td>\n",
       "    </tr>\n",
       "    <tr>\n",
       "      <th>306426</th>\n",
       "      <td>306427</td>\n",
       "      <td>05/29/2021</td>\n",
       "      <td>Zhejiang</td>\n",
       "      <td>Mainland China</td>\n",
       "      <td>2021-05-30 04:20:55</td>\n",
       "      <td>1364.0</td>\n",
       "      <td>1.0</td>\n",
       "      <td>1324.0</td>\n",
       "    </tr>\n",
       "  </tbody>\n",
       "</table>\n",
       "<p>15758 rows × 8 columns</p>\n",
       "</div>"
      ],
      "text/plain": [
       "           SNo ObservationDate Province/State  Country/Region  \\\n",
       "0            1      01/22/2020          Anhui  Mainland China   \n",
       "1            2      01/22/2020        Beijing  Mainland China   \n",
       "2            3      01/22/2020      Chongqing  Mainland China   \n",
       "3            4      01/22/2020         Fujian  Mainland China   \n",
       "4            5      01/22/2020          Gansu  Mainland China   \n",
       "...        ...             ...            ...             ...   \n",
       "306340  306341      05/29/2021          Tibet  Mainland China   \n",
       "306368  306369      05/29/2021        Unknown  Mainland China   \n",
       "306412  306413      05/29/2021       Xinjiang  Mainland China   \n",
       "306420  306421      05/29/2021         Yunnan  Mainland China   \n",
       "306426  306427      05/29/2021       Zhejiang  Mainland China   \n",
       "\n",
       "                Last Update  Confirmed  Deaths  Recovered  \n",
       "0           1/22/2020 17:00        1.0     0.0        0.0  \n",
       "1           1/22/2020 17:00       14.0     0.0        0.0  \n",
       "2           1/22/2020 17:00        6.0     0.0        0.0  \n",
       "3           1/22/2020 17:00        1.0     0.0        0.0  \n",
       "4           1/22/2020 17:00        0.0     0.0        0.0  \n",
       "...                     ...        ...     ...        ...  \n",
       "306340  2021-05-30 04:20:55        1.0     0.0        1.0  \n",
       "306368  2021-05-30 04:20:55        0.0     0.0       10.0  \n",
       "306412  2021-05-30 04:20:55      980.0     3.0      977.0  \n",
       "306420  2021-05-30 04:20:55      352.0     2.0      331.0  \n",
       "306426  2021-05-30 04:20:55     1364.0     1.0     1324.0  \n",
       "\n",
       "[15758 rows x 8 columns]"
      ]
     },
     "execution_count": 283,
     "metadata": {},
     "output_type": "execute_result"
    }
   ],
   "source": [
    "coronaChina = coronaData[coronaData['Country/Region']=='Mainland China']\n",
    "coronaChina"
   ]
  },
  {
   "cell_type": "markdown",
   "metadata": {},
   "source": [
    "Tìm quốc gia (Country.Region) có số ca lây nhiễm nhiều nhất: "
   ]
  },
  {
   "cell_type": "code",
   "execution_count": 284,
   "metadata": {},
   "outputs": [
    {
     "data": {
      "text/plain": [
       "298068    France\n",
       "Name: Country/Region, dtype: object"
      ]
     },
     "execution_count": 284,
     "metadata": {},
     "output_type": "execute_result"
    }
   ],
   "source": [
    "countrymaxConfirmedCases = coronaData['Country/Region'][coronaData['Confirmed']==maxConfirmedCases]\n",
    "countrymaxConfirmedCases"
   ]
  },
  {
   "cell_type": "markdown",
   "metadata": {},
   "source": [
    "Tìm tỉnh (Province.State) có số ca lây nhiễm nhiều nhất "
   ]
  },
  {
   "cell_type": "code",
   "execution_count": 285,
   "metadata": {},
   "outputs": [
    {
     "data": {
      "text/plain": [
       "298068    NaN\n",
       "Name: Province/State, dtype: object"
      ]
     },
     "execution_count": 285,
     "metadata": {},
     "output_type": "execute_result"
    }
   ],
   "source": [
    "provincemaxConfirmedCases = coronaData[coronaData['Confirmed']==maxConfirmedCases]['Province/State']\n",
    "provincemaxConfirmedCases"
   ]
  },
  {
   "cell_type": "markdown",
   "metadata": {},
   "source": [
    "Lấy dữ liệu theo ngày tháng\n",
    "Định dạng lại cột dữ liệu ngày tháng: Sử dụng hàm: as.Date(<danh sách ngày tháng>, <định dạng ngày tháng trong dữ liệu>)\n"
   ]
  },
  {
   "cell_type": "code",
   "execution_count": 286,
   "metadata": {},
   "outputs": [
    {
     "data": {
      "text/plain": [
       "str"
      ]
     },
     "execution_count": 286,
     "metadata": {},
     "output_type": "execute_result"
    }
   ],
   "source": [
    "# kiểm tra kiểu dữ liệu của cột ObservationDate\n",
    "type(coronaData['ObservationDate'][1])"
   ]
  },
  {
   "cell_type": "code",
   "execution_count": 287,
   "metadata": {},
   "outputs": [],
   "source": [
    "# Định dạng lại cột dữ liệu ngày tháng\n",
    "coronaData['ObservationDate'] = pd.to_datetime(coronaData['ObservationDate'])"
   ]
  },
  {
   "cell_type": "code",
   "execution_count": 288,
   "metadata": {},
   "outputs": [
    {
     "data": {
      "text/html": [
       "<div>\n",
       "<style scoped>\n",
       "    .dataframe tbody tr th:only-of-type {\n",
       "        vertical-align: middle;\n",
       "    }\n",
       "\n",
       "    .dataframe tbody tr th {\n",
       "        vertical-align: top;\n",
       "    }\n",
       "\n",
       "    .dataframe thead th {\n",
       "        text-align: right;\n",
       "    }\n",
       "</style>\n",
       "<table border=\"1\" class=\"dataframe\">\n",
       "  <thead>\n",
       "    <tr style=\"text-align: right;\">\n",
       "      <th></th>\n",
       "      <th>SNo</th>\n",
       "      <th>ObservationDate</th>\n",
       "      <th>Province/State</th>\n",
       "      <th>Country/Region</th>\n",
       "      <th>Last Update</th>\n",
       "      <th>Confirmed</th>\n",
       "      <th>Deaths</th>\n",
       "      <th>Recovered</th>\n",
       "    </tr>\n",
       "  </thead>\n",
       "  <tbody>\n",
       "    <tr>\n",
       "      <th>0</th>\n",
       "      <td>1</td>\n",
       "      <td>2020-01-22</td>\n",
       "      <td>Anhui</td>\n",
       "      <td>Mainland China</td>\n",
       "      <td>1/22/2020 17:00</td>\n",
       "      <td>1.0</td>\n",
       "      <td>0.0</td>\n",
       "      <td>0.0</td>\n",
       "    </tr>\n",
       "    <tr>\n",
       "      <th>1</th>\n",
       "      <td>2</td>\n",
       "      <td>2020-01-22</td>\n",
       "      <td>Beijing</td>\n",
       "      <td>Mainland China</td>\n",
       "      <td>1/22/2020 17:00</td>\n",
       "      <td>14.0</td>\n",
       "      <td>0.0</td>\n",
       "      <td>0.0</td>\n",
       "    </tr>\n",
       "    <tr>\n",
       "      <th>2</th>\n",
       "      <td>3</td>\n",
       "      <td>2020-01-22</td>\n",
       "      <td>Chongqing</td>\n",
       "      <td>Mainland China</td>\n",
       "      <td>1/22/2020 17:00</td>\n",
       "      <td>6.0</td>\n",
       "      <td>0.0</td>\n",
       "      <td>0.0</td>\n",
       "    </tr>\n",
       "    <tr>\n",
       "      <th>3</th>\n",
       "      <td>4</td>\n",
       "      <td>2020-01-22</td>\n",
       "      <td>Fujian</td>\n",
       "      <td>Mainland China</td>\n",
       "      <td>1/22/2020 17:00</td>\n",
       "      <td>1.0</td>\n",
       "      <td>0.0</td>\n",
       "      <td>0.0</td>\n",
       "    </tr>\n",
       "    <tr>\n",
       "      <th>4</th>\n",
       "      <td>5</td>\n",
       "      <td>2020-01-22</td>\n",
       "      <td>Gansu</td>\n",
       "      <td>Mainland China</td>\n",
       "      <td>1/22/2020 17:00</td>\n",
       "      <td>0.0</td>\n",
       "      <td>0.0</td>\n",
       "      <td>0.0</td>\n",
       "    </tr>\n",
       "    <tr>\n",
       "      <th>...</th>\n",
       "      <td>...</td>\n",
       "      <td>...</td>\n",
       "      <td>...</td>\n",
       "      <td>...</td>\n",
       "      <td>...</td>\n",
       "      <td>...</td>\n",
       "      <td>...</td>\n",
       "      <td>...</td>\n",
       "    </tr>\n",
       "    <tr>\n",
       "      <th>508</th>\n",
       "      <td>509</td>\n",
       "      <td>2020-01-31</td>\n",
       "      <td>NaN</td>\n",
       "      <td>Philippines</td>\n",
       "      <td>1/31/2020 23:59</td>\n",
       "      <td>1.0</td>\n",
       "      <td>0.0</td>\n",
       "      <td>0.0</td>\n",
       "    </tr>\n",
       "    <tr>\n",
       "      <th>509</th>\n",
       "      <td>510</td>\n",
       "      <td>2020-01-31</td>\n",
       "      <td>NaN</td>\n",
       "      <td>India</td>\n",
       "      <td>1/31/2020 23:59</td>\n",
       "      <td>1.0</td>\n",
       "      <td>0.0</td>\n",
       "      <td>0.0</td>\n",
       "    </tr>\n",
       "    <tr>\n",
       "      <th>510</th>\n",
       "      <td>511</td>\n",
       "      <td>2020-01-31</td>\n",
       "      <td>NaN</td>\n",
       "      <td>Sweden</td>\n",
       "      <td>1/31/2020 23:59</td>\n",
       "      <td>1.0</td>\n",
       "      <td>0.0</td>\n",
       "      <td>0.0</td>\n",
       "    </tr>\n",
       "    <tr>\n",
       "      <th>511</th>\n",
       "      <td>512</td>\n",
       "      <td>2020-01-31</td>\n",
       "      <td>Unknown</td>\n",
       "      <td>China</td>\n",
       "      <td>1/31/2020 23:59</td>\n",
       "      <td>0.0</td>\n",
       "      <td>0.0</td>\n",
       "      <td>0.0</td>\n",
       "    </tr>\n",
       "    <tr>\n",
       "      <th>512</th>\n",
       "      <td>513</td>\n",
       "      <td>2020-01-31</td>\n",
       "      <td>NaN</td>\n",
       "      <td>Kiribati</td>\n",
       "      <td>1/31/2020 23:59</td>\n",
       "      <td>0.0</td>\n",
       "      <td>0.0</td>\n",
       "      <td>0.0</td>\n",
       "    </tr>\n",
       "  </tbody>\n",
       "</table>\n",
       "<p>513 rows × 8 columns</p>\n",
       "</div>"
      ],
      "text/plain": [
       "     SNo ObservationDate Province/State  Country/Region      Last Update  \\\n",
       "0      1      2020-01-22          Anhui  Mainland China  1/22/2020 17:00   \n",
       "1      2      2020-01-22        Beijing  Mainland China  1/22/2020 17:00   \n",
       "2      3      2020-01-22      Chongqing  Mainland China  1/22/2020 17:00   \n",
       "3      4      2020-01-22         Fujian  Mainland China  1/22/2020 17:00   \n",
       "4      5      2020-01-22          Gansu  Mainland China  1/22/2020 17:00   \n",
       "..   ...             ...            ...             ...              ...   \n",
       "508  509      2020-01-31            NaN     Philippines  1/31/2020 23:59   \n",
       "509  510      2020-01-31            NaN           India  1/31/2020 23:59   \n",
       "510  511      2020-01-31            NaN          Sweden  1/31/2020 23:59   \n",
       "511  512      2020-01-31        Unknown           China  1/31/2020 23:59   \n",
       "512  513      2020-01-31            NaN        Kiribati  1/31/2020 23:59   \n",
       "\n",
       "     Confirmed  Deaths  Recovered  \n",
       "0          1.0     0.0        0.0  \n",
       "1         14.0     0.0        0.0  \n",
       "2          6.0     0.0        0.0  \n",
       "3          1.0     0.0        0.0  \n",
       "4          0.0     0.0        0.0  \n",
       "..         ...     ...        ...  \n",
       "508        1.0     0.0        0.0  \n",
       "509        1.0     0.0        0.0  \n",
       "510        1.0     0.0        0.0  \n",
       "511        0.0     0.0        0.0  \n",
       "512        0.0     0.0        0.0  \n",
       "\n",
       "[513 rows x 8 columns]"
      ]
     },
     "execution_count": 288,
     "metadata": {},
     "output_type": "execute_result"
    }
   ],
   "source": [
    "# lấy dữ liệu từ ngày 01/01/2020 đến ngày 31/01/2020\n",
    "data_jan = coronaData[('01/01/2020' <= coronaData['ObservationDate']) & (coronaData['ObservationDate'] <= '01/31/2020')]\n",
    "data_jan"
   ]
  },
  {
   "cell_type": "markdown",
   "metadata": {},
   "source": [
    "4. Bài tập"
   ]
  },
  {
   "cell_type": "markdown",
   "metadata": {},
   "source": [
    "Tìm dữ liệu về số ca lây nhiễm tại Vietnam (Country.Region == 'Vietnam') và lưu vào biến coronaVietnam."
   ]
  },
  {
   "cell_type": "code",
   "execution_count": 289,
   "metadata": {},
   "outputs": [],
   "source": [
    "coronaVietnam = coronaData[coronaData['Country/Region']=='Vietnam']"
   ]
  },
  {
   "cell_type": "markdown",
   "metadata": {},
   "source": [
    "Tìm dữ liệu về số ca lây nhiễm tại Việt Nam trong tháng 02 năm 2021."
   ]
  },
  {
   "cell_type": "code",
   "execution_count": 290,
   "metadata": {},
   "outputs": [
    {
     "data": {
      "text/html": [
       "<div>\n",
       "<style scoped>\n",
       "    .dataframe tbody tr th:only-of-type {\n",
       "        vertical-align: middle;\n",
       "    }\n",
       "\n",
       "    .dataframe tbody tr th {\n",
       "        vertical-align: top;\n",
       "    }\n",
       "\n",
       "    .dataframe thead th {\n",
       "        text-align: right;\n",
       "    }\n",
       "</style>\n",
       "<table border=\"1\" class=\"dataframe\">\n",
       "  <thead>\n",
       "    <tr style=\"text-align: right;\">\n",
       "      <th></th>\n",
       "      <th>ObservationDate</th>\n",
       "      <th>Confirmed</th>\n",
       "    </tr>\n",
       "  </thead>\n",
       "  <tbody>\n",
       "    <tr>\n",
       "      <th>216326</th>\n",
       "      <td>2021-02-01</td>\n",
       "      <td>1850.0</td>\n",
       "    </tr>\n",
       "    <tr>\n",
       "      <th>217091</th>\n",
       "      <td>2021-02-02</td>\n",
       "      <td>1882.0</td>\n",
       "    </tr>\n",
       "    <tr>\n",
       "      <th>217856</th>\n",
       "      <td>2021-02-03</td>\n",
       "      <td>1948.0</td>\n",
       "    </tr>\n",
       "    <tr>\n",
       "      <th>218621</th>\n",
       "      <td>2021-02-04</td>\n",
       "      <td>1957.0</td>\n",
       "    </tr>\n",
       "    <tr>\n",
       "      <th>219386</th>\n",
       "      <td>2021-02-05</td>\n",
       "      <td>1976.0</td>\n",
       "    </tr>\n",
       "    <tr>\n",
       "      <th>220151</th>\n",
       "      <td>2021-02-06</td>\n",
       "      <td>1985.0</td>\n",
       "    </tr>\n",
       "    <tr>\n",
       "      <th>220916</th>\n",
       "      <td>2021-02-07</td>\n",
       "      <td>2001.0</td>\n",
       "    </tr>\n",
       "    <tr>\n",
       "      <th>221681</th>\n",
       "      <td>2021-02-08</td>\n",
       "      <td>2050.0</td>\n",
       "    </tr>\n",
       "    <tr>\n",
       "      <th>222446</th>\n",
       "      <td>2021-02-09</td>\n",
       "      <td>2064.0</td>\n",
       "    </tr>\n",
       "    <tr>\n",
       "      <th>223211</th>\n",
       "      <td>2021-02-10</td>\n",
       "      <td>2091.0</td>\n",
       "    </tr>\n",
       "    <tr>\n",
       "      <th>223976</th>\n",
       "      <td>2021-02-11</td>\n",
       "      <td>2140.0</td>\n",
       "    </tr>\n",
       "    <tr>\n",
       "      <th>224741</th>\n",
       "      <td>2021-02-12</td>\n",
       "      <td>2142.0</td>\n",
       "    </tr>\n",
       "    <tr>\n",
       "      <th>225506</th>\n",
       "      <td>2021-02-13</td>\n",
       "      <td>2195.0</td>\n",
       "    </tr>\n",
       "    <tr>\n",
       "      <th>226271</th>\n",
       "      <td>2021-02-14</td>\n",
       "      <td>2228.0</td>\n",
       "    </tr>\n",
       "    <tr>\n",
       "      <th>227036</th>\n",
       "      <td>2021-02-15</td>\n",
       "      <td>2269.0</td>\n",
       "    </tr>\n",
       "    <tr>\n",
       "      <th>227801</th>\n",
       "      <td>2021-02-16</td>\n",
       "      <td>2311.0</td>\n",
       "    </tr>\n",
       "    <tr>\n",
       "      <th>228566</th>\n",
       "      <td>2021-02-17</td>\n",
       "      <td>2329.0</td>\n",
       "    </tr>\n",
       "    <tr>\n",
       "      <th>229331</th>\n",
       "      <td>2021-02-18</td>\n",
       "      <td>2347.0</td>\n",
       "    </tr>\n",
       "    <tr>\n",
       "      <th>230096</th>\n",
       "      <td>2021-02-19</td>\n",
       "      <td>2362.0</td>\n",
       "    </tr>\n",
       "    <tr>\n",
       "      <th>230861</th>\n",
       "      <td>2021-02-20</td>\n",
       "      <td>2368.0</td>\n",
       "    </tr>\n",
       "    <tr>\n",
       "      <th>231626</th>\n",
       "      <td>2021-02-21</td>\n",
       "      <td>2383.0</td>\n",
       "    </tr>\n",
       "    <tr>\n",
       "      <th>232391</th>\n",
       "      <td>2021-02-22</td>\n",
       "      <td>2392.0</td>\n",
       "    </tr>\n",
       "    <tr>\n",
       "      <th>233156</th>\n",
       "      <td>2021-02-23</td>\n",
       "      <td>2403.0</td>\n",
       "    </tr>\n",
       "    <tr>\n",
       "      <th>233921</th>\n",
       "      <td>2021-02-24</td>\n",
       "      <td>2412.0</td>\n",
       "    </tr>\n",
       "    <tr>\n",
       "      <th>234686</th>\n",
       "      <td>2021-02-25</td>\n",
       "      <td>2421.0</td>\n",
       "    </tr>\n",
       "    <tr>\n",
       "      <th>235451</th>\n",
       "      <td>2021-02-26</td>\n",
       "      <td>2426.0</td>\n",
       "    </tr>\n",
       "    <tr>\n",
       "      <th>236216</th>\n",
       "      <td>2021-02-27</td>\n",
       "      <td>2432.0</td>\n",
       "    </tr>\n",
       "    <tr>\n",
       "      <th>236981</th>\n",
       "      <td>2021-02-28</td>\n",
       "      <td>2448.0</td>\n",
       "    </tr>\n",
       "  </tbody>\n",
       "</table>\n",
       "</div>"
      ],
      "text/plain": [
       "       ObservationDate  Confirmed\n",
       "216326      2021-02-01     1850.0\n",
       "217091      2021-02-02     1882.0\n",
       "217856      2021-02-03     1948.0\n",
       "218621      2021-02-04     1957.0\n",
       "219386      2021-02-05     1976.0\n",
       "220151      2021-02-06     1985.0\n",
       "220916      2021-02-07     2001.0\n",
       "221681      2021-02-08     2050.0\n",
       "222446      2021-02-09     2064.0\n",
       "223211      2021-02-10     2091.0\n",
       "223976      2021-02-11     2140.0\n",
       "224741      2021-02-12     2142.0\n",
       "225506      2021-02-13     2195.0\n",
       "226271      2021-02-14     2228.0\n",
       "227036      2021-02-15     2269.0\n",
       "227801      2021-02-16     2311.0\n",
       "228566      2021-02-17     2329.0\n",
       "229331      2021-02-18     2347.0\n",
       "230096      2021-02-19     2362.0\n",
       "230861      2021-02-20     2368.0\n",
       "231626      2021-02-21     2383.0\n",
       "232391      2021-02-22     2392.0\n",
       "233156      2021-02-23     2403.0\n",
       "233921      2021-02-24     2412.0\n",
       "234686      2021-02-25     2421.0\n",
       "235451      2021-02-26     2426.0\n",
       "236216      2021-02-27     2432.0\n",
       "236981      2021-02-28     2448.0"
      ]
     },
     "execution_count": 290,
     "metadata": {},
     "output_type": "execute_result"
    }
   ],
   "source": [
    "Vietnam_feb = coronaVietnam[(coronaVietnam['ObservationDate']>='02/01/2021') & (coronaVietnam['ObservationDate']<='02/28/2021')]\n",
    "Vietnam_feb[['ObservationDate','Confirmed']]"
   ]
  },
  {
   "cell_type": "markdown",
   "metadata": {},
   "source": [
    "In ra số dữ liệu về ca lây nhiễm nhiều nhất trong khoảng tháng 01 và 02 tại Việt Nam (Lấy năm 2021)."
   ]
  },
  {
   "cell_type": "code",
   "execution_count": 291,
   "metadata": {},
   "outputs": [
    {
     "data": {
      "text/plain": [
       "2448.0"
      ]
     },
     "execution_count": 291,
     "metadata": {},
     "output_type": "execute_result"
    }
   ],
   "source": [
    "VN_jan_feb = coronaVietnam[(coronaVietnam['ObservationDate']>='01/01/2021') & (coronaVietnam['ObservationDate']<='02/28/2021')]\n",
    "VN_jan_feb['Confirmed'].max()"
   ]
  },
  {
   "cell_type": "markdown",
   "metadata": {},
   "source": [
    "Thực hiện tương tự câu d) cho Indonesia và Philipine"
   ]
  },
  {
   "cell_type": "code",
   "execution_count": 292,
   "metadata": {},
   "outputs": [
    {
     "data": {
      "text/plain": [
       "1334634.0"
      ]
     },
     "execution_count": 292,
     "metadata": {},
     "output_type": "execute_result"
    }
   ],
   "source": [
    "Indonesia_jan_feb = coronaData[(coronaData['Country/Region']=='Indonesia') & (coronaData['ObservationDate']>='01/01/2021') & (coronaData['ObservationDate']<='02/28/2021')]\n",
    "Indonesia_jan_feb['Confirmed'].max()"
   ]
  },
  {
   "cell_type": "code",
   "execution_count": 293,
   "metadata": {},
   "outputs": [
    {
     "data": {
      "text/plain": [
       "576352.0"
      ]
     },
     "execution_count": 293,
     "metadata": {},
     "output_type": "execute_result"
    }
   ],
   "source": [
    "Philipines_jan_feb = coronaData[(coronaData['Country/Region']=='Philippines') & (coronaData['ObservationDate']>='01/01/2021') & (coronaData['ObservationDate']<='02/28/2021')]\n",
    "Philipines_jan_feb['Confirmed'].max()"
   ]
  },
  {
   "cell_type": "markdown",
   "metadata": {},
   "source": [
    "In ra dữ liệu về ca nhiễm ghi nhân (Confirmed) của Trung Quốc trong khoảng thời gian từ 01/02/2021 cho đến 15/02/2021. In ra màn hình sử dụng lệnh print()."
   ]
  },
  {
   "cell_type": "code",
   "execution_count": 294,
   "metadata": {},
   "outputs": [
    {
     "data": {
      "text/plain": [
       "pandas._libs.tslibs.timestamps.Timestamp"
      ]
     },
     "execution_count": 294,
     "metadata": {},
     "output_type": "execute_result"
    }
   ],
   "source": [
    "type(coronaData['ObservationDate'][1])"
   ]
  },
  {
   "cell_type": "code",
   "execution_count": 306,
   "metadata": {},
   "outputs": [],
   "source": [
    "ChinaData_feb = coronaData[(coronaData['Country/Region'].str.contains('China')) & (coronaData['ObservationDate']>='02/01/2021') & (coronaData['ObservationDate']<='02/28/2021')]"
   ]
  },
  {
   "cell_type": "code",
   "execution_count": 304,
   "metadata": {},
   "outputs": [
    {
     "name": "stdout",
     "output_type": "stream",
     "text": [
      "   ObservationDate  Confirmed\n",
      "0       2021-02-01    89594.0\n",
      "1       2021-02-02    89619.0\n",
      "2       2021-02-03    89649.0\n",
      "3       2021-02-04    89669.0\n",
      "4       2021-02-05    89681.0\n",
      "5       2021-02-06    89692.0\n",
      "6       2021-02-07    89706.0\n",
      "7       2021-02-08    89720.0\n",
      "8       2021-02-09    89734.0\n",
      "9       2021-02-10    89736.0\n",
      "10      2021-02-11    89748.0\n",
      "11      2021-02-12    89756.0\n",
      "12      2021-02-13    89763.0\n",
      "13      2021-02-14    89772.0\n",
      "14      2021-02-15    89788.0\n"
     ]
    }
   ],
   "source": [
    "ChinaData = ChinaData_feb[(ChinaData_feb['ObservationDate']>='02/01/2021') & (ChinaData_feb['ObservationDate']<='02/15/2021')]\n",
    "print(ChinaData.groupby('ObservationDate').Confirmed.sum().reset_index(name = 'Confirmed'))"
   ]
  },
  {
   "cell_type": "markdown",
   "metadata": {},
   "source": [
    "Thống kê số lượng record theo từng tỉnh của Trung Quốc trong tháng 02/2021. "
   ]
  },
  {
   "cell_type": "code",
   "execution_count": 305,
   "metadata": {},
   "outputs": [
    {
     "data": {
      "text/html": [
       "<div>\n",
       "<style scoped>\n",
       "    .dataframe tbody tr th:only-of-type {\n",
       "        vertical-align: middle;\n",
       "    }\n",
       "\n",
       "    .dataframe tbody tr th {\n",
       "        vertical-align: top;\n",
       "    }\n",
       "\n",
       "    .dataframe thead th {\n",
       "        text-align: right;\n",
       "    }\n",
       "</style>\n",
       "<table border=\"1\" class=\"dataframe\">\n",
       "  <thead>\n",
       "    <tr style=\"text-align: right;\">\n",
       "      <th></th>\n",
       "      <th>Province/State</th>\n",
       "      <th>Recovered</th>\n",
       "    </tr>\n",
       "  </thead>\n",
       "  <tbody>\n",
       "    <tr>\n",
       "      <th>0</th>\n",
       "      <td>Anhui</td>\n",
       "      <td>27663.0</td>\n",
       "    </tr>\n",
       "    <tr>\n",
       "      <th>1</th>\n",
       "      <td>Beijing</td>\n",
       "      <td>28074.0</td>\n",
       "    </tr>\n",
       "    <tr>\n",
       "      <th>2</th>\n",
       "      <td>Chongqing</td>\n",
       "      <td>16378.0</td>\n",
       "    </tr>\n",
       "    <tr>\n",
       "      <th>3</th>\n",
       "      <td>Fujian</td>\n",
       "      <td>15001.0</td>\n",
       "    </tr>\n",
       "    <tr>\n",
       "      <th>4</th>\n",
       "      <td>Gansu</td>\n",
       "      <td>5168.0</td>\n",
       "    </tr>\n",
       "    <tr>\n",
       "      <th>5</th>\n",
       "      <td>Guangdong</td>\n",
       "      <td>59149.0</td>\n",
       "    </tr>\n",
       "    <tr>\n",
       "      <th>6</th>\n",
       "      <td>Guangxi</td>\n",
       "      <td>7406.0</td>\n",
       "    </tr>\n",
       "    <tr>\n",
       "      <th>7</th>\n",
       "      <td>Guizhou</td>\n",
       "      <td>4060.0</td>\n",
       "    </tr>\n",
       "    <tr>\n",
       "      <th>8</th>\n",
       "      <td>Hainan</td>\n",
       "      <td>4620.0</td>\n",
       "    </tr>\n",
       "    <tr>\n",
       "      <th>9</th>\n",
       "      <td>Hebei</td>\n",
       "      <td>32323.0</td>\n",
       "    </tr>\n",
       "    <tr>\n",
       "      <th>10</th>\n",
       "      <td>Heilongjiang</td>\n",
       "      <td>39854.0</td>\n",
       "    </tr>\n",
       "    <tr>\n",
       "      <th>11</th>\n",
       "      <td>Henan</td>\n",
       "      <td>35862.0</td>\n",
       "    </tr>\n",
       "    <tr>\n",
       "      <th>12</th>\n",
       "      <td>Hubei</td>\n",
       "      <td>1781865.0</td>\n",
       "    </tr>\n",
       "    <tr>\n",
       "      <th>13</th>\n",
       "      <td>Hunan</td>\n",
       "      <td>28600.0</td>\n",
       "    </tr>\n",
       "    <tr>\n",
       "      <th>14</th>\n",
       "      <td>Inner Mongolia</td>\n",
       "      <td>10148.0</td>\n",
       "    </tr>\n",
       "    <tr>\n",
       "      <th>15</th>\n",
       "      <td>Jiangsu</td>\n",
       "      <td>19351.0</td>\n",
       "    </tr>\n",
       "    <tr>\n",
       "      <th>16</th>\n",
       "      <td>Jiangxi</td>\n",
       "      <td>26152.0</td>\n",
       "    </tr>\n",
       "    <tr>\n",
       "      <th>17</th>\n",
       "      <td>Jilin</td>\n",
       "      <td>12270.0</td>\n",
       "    </tr>\n",
       "    <tr>\n",
       "      <th>18</th>\n",
       "      <td>Liaoning</td>\n",
       "      <td>11118.0</td>\n",
       "    </tr>\n",
       "    <tr>\n",
       "      <th>19</th>\n",
       "      <td>Ningxia</td>\n",
       "      <td>2100.0</td>\n",
       "    </tr>\n",
       "    <tr>\n",
       "      <th>20</th>\n",
       "      <td>Qinghai</td>\n",
       "      <td>504.0</td>\n",
       "    </tr>\n",
       "    <tr>\n",
       "      <th>21</th>\n",
       "      <td>Shaanxi</td>\n",
       "      <td>14785.0</td>\n",
       "    </tr>\n",
       "    <tr>\n",
       "      <th>22</th>\n",
       "      <td>Shandong</td>\n",
       "      <td>24050.0</td>\n",
       "    </tr>\n",
       "    <tr>\n",
       "      <th>23</th>\n",
       "      <td>Shanghai</td>\n",
       "      <td>46385.0</td>\n",
       "    </tr>\n",
       "    <tr>\n",
       "      <th>24</th>\n",
       "      <td>Shanxi</td>\n",
       "      <td>6516.0</td>\n",
       "    </tr>\n",
       "    <tr>\n",
       "      <th>25</th>\n",
       "      <td>Sichuan</td>\n",
       "      <td>24217.0</td>\n",
       "    </tr>\n",
       "    <tr>\n",
       "      <th>26</th>\n",
       "      <td>Tianjin</td>\n",
       "      <td>9267.0</td>\n",
       "    </tr>\n",
       "    <tr>\n",
       "      <th>27</th>\n",
       "      <td>Tibet</td>\n",
       "      <td>28.0</td>\n",
       "    </tr>\n",
       "    <tr>\n",
       "      <th>28</th>\n",
       "      <td>Unknown</td>\n",
       "      <td>36.0</td>\n",
       "    </tr>\n",
       "    <tr>\n",
       "      <th>29</th>\n",
       "      <td>Xinjiang</td>\n",
       "      <td>27356.0</td>\n",
       "    </tr>\n",
       "    <tr>\n",
       "      <th>30</th>\n",
       "      <td>Yunnan</td>\n",
       "      <td>6391.0</td>\n",
       "    </tr>\n",
       "    <tr>\n",
       "      <th>31</th>\n",
       "      <td>Zhejiang</td>\n",
       "      <td>36615.0</td>\n",
       "    </tr>\n",
       "  </tbody>\n",
       "</table>\n",
       "</div>"
      ],
      "text/plain": [
       "    Province/State  Recovered\n",
       "0            Anhui    27663.0\n",
       "1          Beijing    28074.0\n",
       "2        Chongqing    16378.0\n",
       "3           Fujian    15001.0\n",
       "4            Gansu     5168.0\n",
       "5        Guangdong    59149.0\n",
       "6          Guangxi     7406.0\n",
       "7          Guizhou     4060.0\n",
       "8           Hainan     4620.0\n",
       "9            Hebei    32323.0\n",
       "10    Heilongjiang    39854.0\n",
       "11           Henan    35862.0\n",
       "12           Hubei  1781865.0\n",
       "13           Hunan    28600.0\n",
       "14  Inner Mongolia    10148.0\n",
       "15         Jiangsu    19351.0\n",
       "16         Jiangxi    26152.0\n",
       "17           Jilin    12270.0\n",
       "18        Liaoning    11118.0\n",
       "19         Ningxia     2100.0\n",
       "20         Qinghai      504.0\n",
       "21         Shaanxi    14785.0\n",
       "22        Shandong    24050.0\n",
       "23        Shanghai    46385.0\n",
       "24          Shanxi     6516.0\n",
       "25         Sichuan    24217.0\n",
       "26         Tianjin     9267.0\n",
       "27           Tibet       28.0\n",
       "28         Unknown       36.0\n",
       "29        Xinjiang    27356.0\n",
       "30          Yunnan     6391.0\n",
       "31        Zhejiang    36615.0"
      ]
     },
     "execution_count": 305,
     "metadata": {},
     "output_type": "execute_result"
    }
   ],
   "source": [
    "# Tính tổng số ca hồi phục (Recovered) theo từng tỉnh và đặt tên cột\n",
    "ChinaData_feb.groupby('Province/State').Recovered.sum().reset_index(name='Recovered')"
   ]
  },
  {
   "cell_type": "markdown",
   "metadata": {},
   "source": [
    "Đếm số lượng ca nhiễm mới theo từng tỉnh của Trung Quốc trong tháng 02/2021."
   ]
  },
  {
   "cell_type": "code",
   "execution_count": 307,
   "metadata": {},
   "outputs": [
    {
     "name": "stdout",
     "output_type": "stream",
     "text": [
      "Số lượng ca nhiễm mới của tỉnh Anhui trong tháng 2 là:\n",
      "0.0\n",
      "Số lượng ca nhiễm mới của tỉnh Beijing trong tháng 2 là:\n",
      "10.0\n",
      "Số lượng ca nhiễm mới của tỉnh Chongqing trong tháng 2 là:\n",
      "0.0\n",
      "Số lượng ca nhiễm mới của tỉnh Fujian trong tháng 2 là:\n",
      "10.0\n",
      "Số lượng ca nhiễm mới của tỉnh Gansu trong tháng 2 là:\n",
      "0.0\n",
      "Số lượng ca nhiễm mới của tỉnh Guangdong trong tháng 2 là:\n",
      "85.0\n",
      "Số lượng ca nhiễm mới của tỉnh Guangxi trong tháng 2 là:\n",
      "0.0\n",
      "Số lượng ca nhiễm mới của tỉnh Guizhou trong tháng 2 là:\n",
      "0.0\n",
      "Số lượng ca nhiễm mới của tỉnh Hainan trong tháng 2 là:\n",
      "0.0\n",
      "Số lượng ca nhiễm mới của tỉnh Hebei trong tháng 2 là:\n",
      "4.0\n",
      "Số lượng ca nhiễm mới của tỉnh Heilongjiang trong tháng 2 là:\n",
      "19.0\n",
      "Số lượng ca nhiễm mới của tỉnh Henan trong tháng 2 là:\n",
      "1.0\n",
      "Số lượng ca nhiễm mới của tỉnh Hubei trong tháng 2 là:\n",
      "1.0\n",
      "Số lượng ca nhiễm mới của tỉnh Hunan trong tháng 2 là:\n",
      "4.0\n",
      "Số lượng ca nhiễm mới của tỉnh Inner Mongolia trong tháng 2 là:\n",
      "1.0\n",
      "Số lượng ca nhiễm mới của tỉnh Jiangsu trong tháng 2 là:\n",
      "7.0\n",
      "Số lượng ca nhiễm mới của tỉnh Jiangxi trong tháng 2 là:\n",
      "0.0\n",
      "Số lượng ca nhiễm mới của tỉnh Jilin trong tháng 2 là:\n",
      "18.0\n",
      "Số lượng ca nhiễm mới của tỉnh Liaoning trong tháng 2 là:\n",
      "4.0\n",
      "Số lượng ca nhiễm mới của tỉnh Ningxia trong tháng 2 là:\n",
      "0.0\n",
      "Số lượng ca nhiễm mới của tỉnh Qinghai trong tháng 2 là:\n",
      "0.0\n",
      "Số lượng ca nhiễm mới của tỉnh Shaanxi trong tháng 2 là:\n",
      "11.0\n",
      "Số lượng ca nhiễm mới của tỉnh Shandong trong tháng 2 là:\n",
      "3.0\n",
      "Số lượng ca nhiễm mới của tỉnh Shanghai trong tháng 2 là:\n",
      "91.0\n",
      "Số lượng ca nhiễm mới của tỉnh Shanxi trong tháng 2 là:\n",
      "1.0\n",
      "Số lượng ca nhiễm mới của tỉnh Sichuan trong tháng 2 là:\n",
      "29.0\n",
      "Số lượng ca nhiễm mới của tỉnh Tianjin trong tháng 2 là:\n",
      "12.0\n",
      "Số lượng ca nhiễm mới của tỉnh Tibet trong tháng 2 là:\n",
      "0.0\n",
      "Số lượng ca nhiễm mới của tỉnh Unknown trong tháng 2 là:\n",
      "0.0\n",
      "Số lượng ca nhiễm mới của tỉnh Xinjiang trong tháng 2 là:\n",
      "0.0\n",
      "Số lượng ca nhiễm mới của tỉnh Yunnan trong tháng 2 là:\n",
      "2.0\n",
      "Số lượng ca nhiễm mới của tỉnh Zhejiang trong tháng 2 là:\n",
      "5.0\n"
     ]
    },
    {
     "name": "stderr",
     "output_type": "stream",
     "text": [
      "C:\\Users\\Thy\\AppData\\Local\\Temp\\ipykernel_23104\\1845505272.py:3: FutureWarning: Calling float on a single element Series is deprecated and will raise a TypeError in the future. Use float(ser.iloc[0]) instead\n",
      "  kq = float(ChinaData_feb[(ChinaData_feb['Province/State']==i) & (ChinaData_feb['ObservationDate']=='02/28/2021')]['Confirmed']) - float(ChinaData_feb[(ChinaData_feb['Province/State']==i) & (ChinaData_feb['ObservationDate']=='02/01/2021')]['Confirmed'])\n"
     ]
    }
   ],
   "source": [
    "for i in ChinaData_feb['Province/State'].unique():\n",
    "    print(f'Số lượng ca nhiễm mới của tỉnh {i} trong tháng 2 là:')\n",
    "    kq = float(ChinaData_feb[(ChinaData_feb['Province/State']==i) & (ChinaData_feb['ObservationDate']=='02/28/2021')]['Confirmed']) - float(ChinaData_feb[(ChinaData_feb['Province/State']==i) & (ChinaData_feb['ObservationDate']=='02/01/2021')]['Confirmed'])\n",
    "    print(kq)"
   ]
  },
  {
   "cell_type": "markdown",
   "metadata": {},
   "source": [
    " Tìm dữ liệu ca tử vong của Trung Quốc trong khoảng thời gian từ 01/02/2021 cho đến 15/02/2021. In ra màn hình sử dụng lệnh print()."
   ]
  },
  {
   "cell_type": "code",
   "execution_count": 317,
   "metadata": {},
   "outputs": [
    {
     "data": {
      "text/plain": [
       "np.float64(4636.0)"
      ]
     },
     "execution_count": 317,
     "metadata": {},
     "output_type": "execute_result"
    }
   ],
   "source": [
    "ChinaData = ChinaData_feb[(ChinaData_feb['ObservationDate']>='02/01/2021') & (ChinaData_feb['ObservationDate']<='02/15/2021')]\n",
    "ChinaData[(ChinaData['ObservationDate']=='02/01/2021')].Deaths.sum()"
   ]
  },
  {
   "cell_type": "code",
   "execution_count": 318,
   "metadata": {},
   "outputs": [
    {
     "name": "stdout",
     "output_type": "stream",
     "text": [
      "   ObservationDate  Deaths\n",
      "0       2021-02-01  4636.0\n",
      "1       2021-02-02  4636.0\n",
      "2       2021-02-03  4636.0\n",
      "3       2021-02-04  4636.0\n",
      "4       2021-02-05  4636.0\n",
      "5       2021-02-06  4636.0\n",
      "6       2021-02-07  4636.0\n",
      "7       2021-02-08  4636.0\n",
      "8       2021-02-09  4636.0\n",
      "9       2021-02-10  4636.0\n",
      "10      2021-02-11  4636.0\n",
      "11      2021-02-12  4636.0\n",
      "12      2021-02-13  4636.0\n",
      "13      2021-02-14  4636.0\n",
      "14      2021-02-15  4636.0\n"
     ]
    }
   ],
   "source": [
    "print(ChinaData.groupby('ObservationDate').Deaths.sum().reset_index(name = 'Deaths'))"
   ]
  },
  {
   "cell_type": "markdown",
   "metadata": {},
   "source": [
    " *Có nhận xét gì về số ca nhiễm mới tại Việt Nam giữa tháng 05/2020 và tháng 05/2021. Vẽ biểu đồ đường thể hiện số ca nhiễm mới trong 2 tháng trên. Gợi ý: Dùng hàm plot() trong R"
   ]
  },
  {
   "cell_type": "code",
   "execution_count": 323,
   "metadata": {},
   "outputs": [
    {
     "name": "stderr",
     "output_type": "stream",
     "text": [
      "C:\\Users\\Thy\\AppData\\Local\\Temp\\ipykernel_23104\\1435480851.py:13: SettingWithCopyWarning: \n",
      "A value is trying to be set on a copy of a slice from a DataFrame.\n",
      "Try using .loc[row_indexer,col_indexer] = value instead\n",
      "\n",
      "See the caveats in the documentation: https://pandas.pydata.org/pandas-docs/stable/user_guide/indexing.html#returning-a-view-versus-a-copy\n",
      "  vietnam_may_2020['NewCases'] = vietnam_may_2020['Confirmed'].diff().fillna(0)\n",
      "C:\\Users\\Thy\\AppData\\Local\\Temp\\ipykernel_23104\\1435480851.py:14: SettingWithCopyWarning: \n",
      "A value is trying to be set on a copy of a slice from a DataFrame.\n",
      "Try using .loc[row_indexer,col_indexer] = value instead\n",
      "\n",
      "See the caveats in the documentation: https://pandas.pydata.org/pandas-docs/stable/user_guide/indexing.html#returning-a-view-versus-a-copy\n",
      "  vietnam_may_2021['NewCases'] = vietnam_may_2021['Confirmed'].diff().fillna(0)\n"
     ]
    }
   ],
   "source": [
    "vietnam_may_2020 = coronaData[\n",
    "    (coronaData['Country/Region'] == 'Vietnam') &\n",
    "    (coronaData['ObservationDate'] >= '2020-05-01') &\n",
    "    (coronaData['ObservationDate'] <= '2020-05-31')\n",
    "]\n",
    "vietnam_may_2021 = coronaData[\n",
    "    (coronaData['Country/Region'] == 'Vietnam') &\n",
    "    (coronaData['ObservationDate'] >= '2021-05-01') &\n",
    "    (coronaData['ObservationDate'] <= '2021-05-31')\n",
    "]\n",
    "\n",
    "# Tính số ca nhiễm mới mỗi ngày\n",
    "vietnam_may_2020['NewCases'] = vietnam_may_2020['Confirmed'].diff().fillna(0)\n",
    "vietnam_may_2021['NewCases'] = vietnam_may_2021['Confirmed'].diff().fillna(0)\n",
    "# Hàm diff() trong pandas được sử dụng để tính sự khác biệt giữa các giá trị liên tiếp trong một cột. \n",
    "# Khi kết hợp với fillna(0), nó sẽ thay thế các giá trị NaN (thường xuất hiện ở hàng đầu tiên sau khi tính diff()) bằng 0."
   ]
  },
  {
   "cell_type": "code",
   "execution_count": 348,
   "metadata": {},
   "outputs": [
    {
     "data": {
      "image/png": "[encoded data removed]",
      "text/plain": [
       "<Figure size 1500x600 with 1 Axes>"
      ]
     },
     "metadata": {},
     "output_type": "display_data"
    }
   ],
   "source": [
    "import matplotlib.pyplot as plt\n",
    "\n",
    "# Vẽ biểu đồ\n",
    "plt.figure(figsize=(15, 6)) # Dòng lệnh plt.figure(figsize=(10, 6)) được sử dụng để thiết lập kích thước của biểu đồ trước khi vẽ.\n",
    "plt.plot(vietnam_may_2020['ObservationDate'], vietnam_may_2020['NewCases'], label='May 2020', marker='o') # ham số marker='o' trong hàm plt.plot() được sử dụng để chỉ định kiểu đánh dấu (marker) trên các điểm dữ liệu trong biểu đồ đường.\n",
    "\n",
    "# Thêm tiêu đề và nhãn\n",
    "plt.title('Số ca nhiễm mới tại Việt Nam Tháng 05/2020', fontsize=20)\n",
    "plt.xlabel('Ngày', fontsize=14)\n",
    "plt.ylabel('Số ca nhiễm mới', fontsize=14)\n",
    "plt.grid(True)\n",
    "\n",
    "# Hiển thị biểu đồ\n",
    "plt.show()"
   ]
  },
  {
   "cell_type": "code",
   "execution_count": 349,
   "metadata": {},
   "outputs": [
    {
     "data": {
      "image/png": "[encoded data removed]",
      "text/plain": [
       "<Figure size 1500x600 with 1 Axes>"
      ]
     },
     "metadata": {},
     "output_type": "display_data"
    }
   ],
   "source": [
    "plt.figure(figsize=(15, 6))\n",
    "plt.plot(vietnam_may_2021['ObservationDate'], vietnam_may_2021['NewCases'], label='May 2021', marker='o')\n",
    "\n",
    "plt.title('Số ca nhiễm mới tại Việt Nam (Tháng 05/2021)', fontsize=20)\n",
    "plt.xlabel('Ngày', fontsize=14)\n",
    "plt.ylabel('Số ca nhiễm mới', fontsize=14)\n",
    "plt.grid(True)\n",
    "\n",
    "plt.show()"
   ]
  },
  {
   "cell_type": "markdown",
   "metadata": {},
   "source": [
    "Tháng 05/2020 số ca nhiễm mới thấp hơn do giai đoạn đầu của đại dịch => dịch xuất hiện nhưng chưa bùng phát mạnh, các biện pháp phòng chóng cách ly ngăn dịch bệnh có hiệu quả => dịch bệnh nằm trong sự kiểm soát\n",
    "\n",
    "\n",
    "Tháng 05/2021 đợt dịch mới bùng phát, số ca nhiễm tăng nhanh theo thời gian (cuối tháng 5) => Viruss có thể đã tiến hóa chủng mới mạnh hơn => Biện pháp phòng chống dịch năm 2020 đã không còn hiệu quả => Cần thay đổi"
   ]
  },
  {
   "cell_type": "code",
   "execution_count": 368,
   "metadata": {},
   "outputs": [
    {
     "data": {
      "image/png": "[encoded data removed]",
      "text/plain": [
       "<Figure size 1000x1000 with 1 Axes>"
      ]
     },
     "metadata": {},
     "output_type": "display_data"
    }
   ],
   "source": [
    "import pandas as pd\n",
    "import matplotlib.pyplot as plt\n",
    "\n",
    "# Lọc dữ liệu cho 3 quốc gia trong tháng 01 và tháng 02 năm 2021\n",
    "filtered_data = coronaData[\n",
    "    (coronaData['Country/Region'].isin(['Vietnam', 'Indonesia', 'Philippines'])) &\n",
    "    (coronaData['ObservationDate'] >= '2021-01-01') &\n",
    "    (coronaData['ObservationDate'] <= '2021-02-28')\n",
    "]\n",
    "\n",
    "# Tìm số ca lây nhiễm nhiều nhất (Confirmed) của mỗi quốc gia trong khoảng thời gian này\n",
    "max_cases = filtered_data.groupby('Country/Region')['Confirmed'].max().reset_index()\n",
    "\n",
    "# Vẽ biểu đồ\n",
    "plt.figure(figsize=(10, 10))\n",
    "plt.bar(max_cases['Country/Region'], max_cases['Confirmed'], color=['blue', 'orange', 'green'])\n",
    "\n",
    "# Thêm tiêu đề và nhãn\n",
    "plt.title('Số ca lây nhiễm nhiều nhất của 3 quốc gia (01/2021 - 02/2021)', fontsize=20)\n",
    "plt.xlabel('Quốc gia', fontsize=15)\n",
    "plt.ylabel('Số ca lây nhiễm nhiều nhất', fontsize=15)\n",
    "plt.grid(axis='y', linestyle='--', alpha=1)\n",
    "\n",
    "# Hiển thị biểu đồ\n",
    "plt.show()"
   ]
  }
 ],
 "metadata": {
  "kernelspec": {
   "display_name": "newenv",
   "language": "python",
   "name": "python3"
  },
  "language_info": {
   "codemirror_mode": {
    "name": "ipython",
    "version": 3
   },
   "file_extension": ".py",
   "mimetype": "text/x-python",
   "name": "python",
   "nbconvert_exporter": "python",
   "pygments_lexer": "ipython3",
   "version": "3.12.3"
  }
 },
 "nbformat": 4,
 "nbformat_minor": 2
}
